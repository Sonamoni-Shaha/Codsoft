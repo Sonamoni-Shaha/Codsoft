{
 "cells": [
  {
   "cell_type": "code",
   "execution_count": 1,
   "id": "e41279a1",
   "metadata": {},
   "outputs": [],
   "source": [
    "import re"
   ]
  },
  {
   "cell_type": "raw",
   "id": "6808e8fe",
   "metadata": {},
   "source": [
    "# Convert user input to lowercase for case-insensitivity"
   ]
  },
  {
   "cell_type": "code",
   "execution_count": 2,
   "id": "2b35d179",
   "metadata": {},
   "outputs": [],
   "source": [
    "def simple_chatbot(user_input):\n",
    "    user_input = user_input.lower()\n",
    "    greeting_patterns = ['hello', 'hi', 'hey']\n",
    "    farewell_patterns = ['bye', 'goodbye', 'see you']\n",
    "    inquiry_patterns = ['how are you', 'what\\'s up', 'how do you do']\n",
    "    \n",
    "    # Check user input against patterns\n",
    "    if any(pattern in user_input for pattern in greeting_patterns):\n",
    "        return \"Hello! How can I help you today?\"\n",
    "    elif any(pattern in user_input for pattern in farewell_patterns):\n",
    "        return \"Goodbye! Have a great day!\"\n",
    "    elif any(pattern in user_input for pattern in inquiry_patterns):\n",
    "        return \"I'm just a simple chatbot. What can I do for you?\"\n",
    "    else:\n",
    "        return \"I'm sorry, I didn't understand that. Can you please rephrase or ask something else?\"\n"
   ]
  },
  {
   "cell_type": "markdown",
   "id": "55d54265",
   "metadata": {},
   "source": [
    "# Simple chat loop"
   ]
  },
  {
   "cell_type": "code",
   "execution_count": 3,
   "id": "2f50eb10",
   "metadata": {},
   "outputs": [
    {
     "name": "stdout",
     "output_type": "stream",
     "text": [
      "Simple Chatbot: Hello! Type 'bye' to exit.\n",
      "User: hello\n",
      "Simple Chatbot: Hello! How can I help you today?\n",
      "User: bye\n",
      "Simple Chatbot: Goodbye!\n"
     ]
    }
   ],
   "source": [
    "print(\"Simple Chatbot: Hello! Type 'bye' to exit.\")\n",
    "while True:\n",
    "    user_input = input(\"User: \")\n",
    "    \n",
    "    # Check for exit command\n",
    "    if user_input.lower() == 'bye':\n",
    "        print(\"Simple Chatbot: Goodbye!\")\n",
    "        break\n",
    "    \n",
    "    # Get chatbot response based on user input\n",
    "    bot_response = simple_chatbot(user_input)\n",
    "    print(\"Simple Chatbot:\", bot_response)\n"
   ]
  },
  {
   "cell_type": "code",
   "execution_count": null,
   "id": "04c7a124",
   "metadata": {},
   "outputs": [],
   "source": []
  },
  {
   "cell_type": "code",
   "execution_count": null,
   "id": "7f6e828c",
   "metadata": {},
   "outputs": [],
   "source": []
  },
  {
   "cell_type": "code",
   "execution_count": null,
   "id": "d4a7e411",
   "metadata": {},
   "outputs": [],
   "source": []
  },
  {
   "cell_type": "code",
   "execution_count": null,
   "id": "b3f6da23",
   "metadata": {},
   "outputs": [],
   "source": []
  },
  {
   "cell_type": "code",
   "execution_count": null,
   "id": "facf6078",
   "metadata": {},
   "outputs": [],
   "source": []
  },
  {
   "cell_type": "code",
   "execution_count": null,
   "id": "c64f7c23",
   "metadata": {},
   "outputs": [],
   "source": []
  },
  {
   "cell_type": "code",
   "execution_count": null,
   "id": "95d38360",
   "metadata": {},
   "outputs": [],
   "source": []
  },
  {
   "cell_type": "code",
   "execution_count": null,
   "id": "d6efd496",
   "metadata": {},
   "outputs": [],
   "source": []
  }
 ],
 "metadata": {
  "kernelspec": {
   "display_name": "Python 3 (ipykernel)",
   "language": "python",
   "name": "python3"
  },
  "language_info": {
   "codemirror_mode": {
    "name": "ipython",
    "version": 3
   },
   "file_extension": ".py",
   "mimetype": "text/x-python",
   "name": "python",
   "nbconvert_exporter": "python",
   "pygments_lexer": "ipython3",
   "version": "3.11.3"
  }
 },
 "nbformat": 4,
 "nbformat_minor": 5
}
