{
 "cells": [
  {
   "cell_type": "code",
   "execution_count": 9,
   "id": "acfe9445",
   "metadata": {},
   "outputs": [],
   "source": [
    "import pandas as pd\n",
    "from sklearn.feature_extraction.text import TfidfVectorizer\n",
    "from sklearn.metrics.pairwise import linear_kernel"
   ]
  },
  {
   "cell_type": "code",
   "execution_count": 10,
   "id": "b528e9d1",
   "metadata": {},
   "outputs": [],
   "source": [
    "movies_data = {\n",
    "    'Title': ['Movie 1', 'Movie 2', 'Movie 3', 'Movie 4', 'Movie 5'],\n",
    "    'Genre': ['Action', 'Drama', 'Comedy', 'Action', 'Drama'],\n",
    "    'Description': [\n",
    "        'Exciting action-packed movie with lots of explosions.',\n",
    "        'A touching drama about human relationships.',\n",
    "        'Laugh-out-loud comedy with hilarious moments.',\n",
    "        'Thrilling action movie with intense car chases.',\n",
    "        'Heartwarming drama that explores the meaning of family.'\n",
    "    ]\n",
    "}\n",
    "\n",
    "\n",
    "movies_df = pd.DataFrame(movies_data)"
   ]
  },
  {
   "cell_type": "code",
   "execution_count": 11,
   "id": "269bf51d",
   "metadata": {},
   "outputs": [],
   "source": [
    "def content_based_recommendation(user_preference, df, vectorizer, similarity_matrix):\n",
    "    # Transform user preference into a vector\n",
    "    user_vector = vectorizer.transform([user_preference])\n",
    "\n",
    "    # Calculate similarity scores between user preference and each movie\n",
    "    cosine_similarities = linear_kernel(user_vector, similarity_matrix).flatten()\n",
    "\n",
    "    # Get indices of movies sorted by similarity scores\n",
    "    movie_indices = cosine_similarities.argsort()[::-1]\n",
    "\n",
    "    # Recommend top N movies\n",
    "    recommended_movies = df['Title'].iloc[movie_indices]\n",
    "\n",
    "    return recommended_movies"
   ]
  },
  {
   "cell_type": "code",
   "execution_count": 12,
   "id": "d1047da7",
   "metadata": {},
   "outputs": [],
   "source": [
    "# Create TF-IDF vectorizer\n",
    "tfidf_vectorizer = TfidfVectorizer(stop_words='english')\n",
    "\n"
   ]
  },
  {
   "cell_type": "code",
   "execution_count": 13,
   "id": "4f591d56",
   "metadata": {},
   "outputs": [],
   "source": [
    "# Transform movie descriptions into TF-IDF matrix\n",
    "tfidf_matrix = tfidf_vectorizer.fit_transform(movies_df['Description'])"
   ]
  },
  {
   "cell_type": "code",
   "execution_count": 14,
   "id": "bb8af5a1",
   "metadata": {},
   "outputs": [],
   "source": [
    "# Get movie recommendations based on user preference\n",
    "user_preference = 'Exciting action movie with car chases.'\n",
    "recommendations = content_based_recommendation(user_preference, movies_df, tfidf_vectorizer, tfidf_matrix)\n"
   ]
  },
  {
   "cell_type": "code",
   "execution_count": 15,
   "id": "e12dc904",
   "metadata": {},
   "outputs": [
    {
     "name": "stdout",
     "output_type": "stream",
     "text": [
      "User Preference: Exciting action movie with car chases.\n",
      "Recommended Movies:\n",
      "3    Movie 4\n",
      "0    Movie 1\n",
      "4    Movie 5\n",
      "2    Movie 3\n",
      "1    Movie 2\n",
      "Name: Title, dtype: object\n"
     ]
    }
   ],
   "source": [
    "# Print the recommendations\n",
    "print(\"User Preference:\", user_preference)\n",
    "print(\"Recommended Movies:\")\n",
    "print(recommendations)"
   ]
  },
  {
   "cell_type": "code",
   "execution_count": null,
   "id": "4826c1c9",
   "metadata": {},
   "outputs": [],
   "source": []
  }
 ],
 "metadata": {
  "kernelspec": {
   "display_name": "Python 3 (ipykernel)",
   "language": "python",
   "name": "python3"
  },
  "language_info": {
   "codemirror_mode": {
    "name": "ipython",
    "version": 3
   },
   "file_extension": ".py",
   "mimetype": "text/x-python",
   "name": "python",
   "nbconvert_exporter": "python",
   "pygments_lexer": "ipython3",
   "version": "3.11.3"
  }
 },
 "nbformat": 4,
 "nbformat_minor": 5
}
